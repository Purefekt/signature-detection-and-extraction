{
 "cells": [
  {
   "cell_type": "markdown",
   "id": "57197ed1",
   "metadata": {},
   "source": [
    "# Evaluating the Basic CNN Model"
   ]
  },
  {
   "cell_type": "markdown",
   "id": "1b2bb2cd",
   "metadata": {},
   "source": [
    "## Data\n",
    "\n",
    "The basic CNN was trained on 1161 images (871 train + 290 cross validation)\n",
    "\n",
    "Images with signature labelled as -> 1  \n",
    "Images without signature labelled as -> 0"
   ]
  },
  {
   "cell_type": "markdown",
   "id": "5f104117",
   "metadata": {},
   "source": [
    "## Testing\n",
    "\n",
    "To test i have 129 images. 78 with signature and 51 without signature.\n",
    "\n",
    "The following code is uses the saved CNN model to predict presence of signature on the test set"
   ]
  },
  {
   "cell_type": "code",
   "execution_count": 1,
   "id": "ccc3f2a2",
   "metadata": {},
   "outputs": [],
   "source": [
    "import os\n",
    "import numpy as np\n",
    "from tensorflow import keras\n",
    "from tensorflow.keras.preprocessing import image"
   ]
  },
  {
   "cell_type": "code",
   "execution_count": 2,
   "id": "2b8ef6c5",
   "metadata": {},
   "outputs": [
    {
     "name": "stdout",
     "output_type": "stream",
     "text": [
      "Total images --> 78\n",
      "Images correctly labelled --> 77\n",
      "\n",
      "Accuracy for images WITH signature--> 98.71794871794873%\n"
     ]
    }
   ],
   "source": [
    "# The images with signature and without signature are in seperate folder.\n",
    "# Accuracy will be total images flagged as the correct folder type / total images in the folder\n",
    "\n",
    "# Testing accuracy for images WITH signature\n",
    "total_images = 0\n",
    "images_correctly_labelled = 0\n",
    "true_label = 1\n",
    "\n",
    "# load the model\n",
    "model = keras.models.load_model('basic_cnn_model_gpu.h5')\n",
    "\n",
    "images_with_signature_dir = 'test/signature'\n",
    "for filename in os.listdir(images_with_signature_dir):\n",
    "    total_images = total_images + 1\n",
    "    \n",
    "    current_image_file_path = images_with_signature_dir + '/' + filename\n",
    "    \n",
    "    current_image = image.load_img(current_image_file_path,\n",
    "                                   target_size=(256, 256),\n",
    "                                   color_mode='grayscale')\n",
    "\n",
    "    Y = image.img_to_array(current_image)\n",
    "    X = np.expand_dims(Y, axis=0)\n",
    "    val = model.predict(X)\n",
    "    \n",
    "    if val == true_label:\n",
    "        images_correctly_labelled = images_correctly_labelled + 1\n",
    "\n",
    "print(f'Total images --> {total_images}')\n",
    "print(f'Images correctly labelled --> {images_correctly_labelled}')\n",
    "\n",
    "print(f'\\nAccuracy for images WITH signature--> {images_correctly_labelled/total_images*100}%')"
   ]
  },
  {
   "cell_type": "code",
   "execution_count": 3,
   "id": "53ee5d67",
   "metadata": {},
   "outputs": [
    {
     "name": "stdout",
     "output_type": "stream",
     "text": [
      "Total images --> 51\n",
      "Images correctly labelled --> 36\n",
      "\n",
      "Accuracy for images WITHOUT signature--> 70.58823529411765%\n"
     ]
    }
   ],
   "source": [
    "# The images with signature and without signature are in seperate folder.\n",
    "# Accuracy will be total images flagged as the correct folder type / total images in the folder\n",
    "\n",
    "# Testing accuracy for images WITHOUT signature\n",
    "total_images = 0\n",
    "images_correctly_labelled = 0\n",
    "true_label = 0\n",
    "\n",
    "# load the model\n",
    "model = keras.models.load_model('basic_cnn_model_gpu.h5')\n",
    "\n",
    "images_with_signature_dir = 'test/no_signature'\n",
    "for filename in os.listdir(images_with_signature_dir):\n",
    "    total_images = total_images + 1\n",
    "    \n",
    "    current_image_file_path = images_with_signature_dir + '/' + filename\n",
    "    \n",
    "    current_image = image.load_img(current_image_file_path,\n",
    "                                   target_size=(256, 256),\n",
    "                                   color_mode='grayscale')\n",
    "\n",
    "    Y = image.img_to_array(current_image)\n",
    "    X = np.expand_dims(Y, axis=0)\n",
    "    val = model.predict(X)\n",
    "    \n",
    "    if val == true_label:\n",
    "        images_correctly_labelled = images_correctly_labelled + 1\n",
    "\n",
    "print(f'Total images --> {total_images}')\n",
    "print(f'Images correctly labelled --> {images_correctly_labelled}')\n",
    "\n",
    "print(f'\\nAccuracy for images WITHOUT signature--> {images_correctly_labelled/total_images*100}%')"
   ]
  }
 ],
 "metadata": {
  "kernelspec": {
   "display_name": "signature-detection-and-extraction",
   "language": "python",
   "name": "signature-detection-and-extraction"
  },
  "language_info": {
   "codemirror_mode": {
    "name": "ipython",
    "version": 3
   },
   "file_extension": ".py",
   "mimetype": "text/x-python",
   "name": "python",
   "nbconvert_exporter": "python",
   "pygments_lexer": "ipython3",
   "version": "3.8.5"
  }
 },
 "nbformat": 4,
 "nbformat_minor": 5
}
