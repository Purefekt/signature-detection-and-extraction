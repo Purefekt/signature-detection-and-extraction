{
 "cells": [
  {
   "cell_type": "markdown",
   "id": "af645de9",
   "metadata": {},
   "source": [
    "# Evaluating Trained Basic CNN on Images with <10% IOU\n",
    "\n",
    "Using the previous 6 methods on 776 images which had signatures, there were 189 images which got an iou of less than 10% on all 6 methods.\n",
    "\n",
    "The CNN was trained to identify presence of signature (it cannot extract the signature or provide bounding boxes). These 189 images have been tested with the CNN.\n",
    "\n",
    "All 189 images have a signature, thus if number of images flagged as having a signature is 189 then we have 100% accuracy."
   ]
  },
  {
   "cell_type": "code",
   "execution_count": 1,
   "id": "f690a993",
   "metadata": {},
   "outputs": [],
   "source": [
    "import os\n",
    "import numpy as np\n",
    "from tensorflow import keras\n",
    "from tensorflow.keras.preprocessing import image"
   ]
  },
  {
   "cell_type": "code",
   "execution_count": 2,
   "id": "a491531a",
   "metadata": {},
   "outputs": [
    {
     "name": "stdout",
     "output_type": "stream",
     "text": [
      "Total images --> 189\n",
      "Images correctly labelled --> 178\n",
      "\n",
      "Accuracy for images WITH signature--> 94.17989417989418%\n"
     ]
    }
   ],
   "source": [
    "total_images = 0\n",
    "images_correctly_labelled = 0\n",
    "true_label = 1 # 1 for when signature is found\n",
    "\n",
    "# load the model\n",
    "model = keras.models.load_model('basic_cnn_model_gpu.h5')\n",
    "\n",
    "images_with_signature_dir = 'images_less_than_10_iou'\n",
    "for filename in os.listdir(images_with_signature_dir):\n",
    "    total_images = total_images + 1\n",
    "    \n",
    "    current_image_file_path = images_with_signature_dir + '/' + filename\n",
    "\n",
    "    current_image = image.load_img(current_image_file_path,\n",
    "                                   target_size=(256, 256),\n",
    "                                   color_mode='grayscale')\n",
    "\n",
    "    Y = image.img_to_array(current_image)\n",
    "    X = np.expand_dims(Y, axis=0)\n",
    "    val = model.predict(X)\n",
    "    \n",
    "    if val == true_label:\n",
    "        images_correctly_labelled = images_correctly_labelled + 1\n",
    "\n",
    "print(f'Total images --> {total_images}')\n",
    "print(f'Images correctly labelled --> {images_correctly_labelled}')\n",
    "\n",
    "print(f'\\nAccuracy for images WITH signature--> {images_correctly_labelled/total_images*100}%')"
   ]
  }
 ],
 "metadata": {
  "kernelspec": {
   "display_name": "signature-detection-and-extraction",
   "language": "python",
   "name": "signature-detection-and-extraction"
  },
  "language_info": {
   "codemirror_mode": {
    "name": "ipython",
    "version": 3
   },
   "file_extension": ".py",
   "mimetype": "text/x-python",
   "name": "python",
   "nbconvert_exporter": "python",
   "pygments_lexer": "ipython3",
   "version": "3.8.5"
  }
 },
 "nbformat": 4,
 "nbformat_minor": 5
}
